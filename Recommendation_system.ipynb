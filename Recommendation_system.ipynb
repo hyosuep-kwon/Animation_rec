{
 "cells": [
  {
   "cell_type": "markdown",
   "metadata": {},
   "source": [
    "# Getting user rating by hybrid filtering"
   ]
  },
  {
   "cell_type": "code",
   "execution_count": 8,
   "metadata": {
    "collapsed": true
   },
   "outputs": [],
   "source": [
    "import pandas as pd\n",
    "import numpy as np\n",
    "from scipy.spatial.distance import cosine\n",
    "from scipy.stats import pearsonr"
   ]
  },
  {
   "cell_type": "code",
   "execution_count": 9,
   "metadata": {
    "collapsed": true
   },
   "outputs": [],
   "source": [
    "\"\"\"similarity measure\"\"\"\n",
    "def sim(x, y, metric='cos'):\n",
    "    if metric == 'cos':\n",
    "        return 1.-cosine(x,y)\n",
    "    else:\n",
    "        return pearsonr(x,y)[0]"
   ]
  },
  {
   "cell_type": "code",
   "execution_count": null,
   "metadata": {
    "collapsed": true
   },
   "outputs": [],
   "source": [
    "ufeat_matrix = pd.read_csv('added_sparse_matrix.csv')"
   ]
  },
  {
   "cell_type": "markdown",
   "metadata": {},
   "source": [
    "# Making similarity matrix"
   ]
  },
  {
   "cell_type": "code",
   "execution_count": 16,
   "metadata": {
    "collapsed": false
   },
   "outputs": [],
   "source": [
    "class Hybrid_cbf_cf(object):\n",
    "    def __init__(self, ufeat_matrix):\n",
    "        #initial value\n",
    "        self.ufeat_matrix = ufeat_matrix\n",
    "        self.nusers = len(ufeat_matrix)\n",
    "        self.nani = len(ufeat_matrix[0])\n",
    "    \n",
    "    \n",
    "    def CalcRatings(self,u_vec_feats,K):\n",
    "        data_sim = np.zeros((self.nusers, self.nani + 1))  # Array for ufeat_matrix and similarity \"\"\"\n",
    "        data_sim[:,:-1] = self.ufeat_matrix\n",
    "        u_rec = np.zeros(len(ufeat_matrix[0,:-43]))  #Array for rating animation for each user 'u' \"\"\"\n",
    "        for u in range(self.nusers):\n",
    "            if np.array_equal(data_sim[u,:-1], u_vec_feats) == False:\n",
    "                data_sim[u, self.nani] = sim(data_sim[u,:-1], u_vec_feats)\n",
    "            else:\n",
    "                data_sim[u,ncols] = 0\n",
    "                \n",
    "        data_sim = data_sim[data_sim[:,ncols].argsort()][::-1] # Ordered by similarity\n",
    "\n",
    "        def FindKNeighbours(r,data_sim,K):\n",
    "            neighs = []\n",
    "            cnt=0\n",
    "            for u in range(len(data_sim)):\n",
    "                if data_sim[u,r]>0 and cnt<K: # Finding K neighbors for item 'r'\n",
    "                   neighs.append(data_sim[u])   \n",
    "                   cnt +=1 \n",
    "                elif cnt==K:\n",
    "                   break\n",
    "            return neighs\n",
    "        \n",
    "        def CalcRating(u_vec_feats,r,neighs):\n",
    "            rating = 0.\n",
    "            den = 0.\n",
    "            for j in range(len(neighs)):\n",
    "                 # Multipling similarity by centered value of user 'j'th item 'r' and summing the values\n",
    "                rating += neighs[j][-1]*float(neighs[j][r]-neighs[j][neighs[j]>0][:-1].mean())\n",
    "                den += abs(neighs[j][-1]) # Absolute value of similarity\n",
    "            if den>0:\n",
    "                rating = u_vec_feats[:self.nani][u_vec_feats[:self.numatrix]>0].mean()+(rating/den)\n",
    "            else:\n",
    "                rating = u_vec_feats[:self.nani][u_vec_feats[:self.numatrix]>0].mean()\n",
    "            if rating>10:\n",
    "                return 10. # The maximum value\n",
    "            elif rating<0:\n",
    "                return 0. # The minimum value\n",
    "            return rating\n",
    "        \n",
    "        for r in range(self.nani):\n",
    "            if u_vec_feats[r]==0:\n",
    "               neighs = FindKNeighbours(r,data_sim,K)\n",
    "               #calc the predicted rating\n",
    "               u_rec[r] = CalcRating(u_vec_feats,r,neighs)\n",
    "        return u_rec"
   ]
  }
 ],
 "metadata": {
  "kernelspec": {
   "display_name": "Python 2",
   "language": "python",
   "name": "python2"
  },
  "language_info": {
   "codemirror_mode": {
    "name": "ipython",
    "version": 2
   },
   "file_extension": ".py",
   "mimetype": "text/x-python",
   "name": "python",
   "nbconvert_exporter": "python",
   "pygments_lexer": "ipython2",
   "version": "2.7.13"
  }
 },
 "nbformat": 4,
 "nbformat_minor": 2
}
