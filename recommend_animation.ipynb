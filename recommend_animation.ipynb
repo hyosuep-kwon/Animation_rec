{
 "cells": [
  {
   "cell_type": "markdown",
   "metadata": {},
   "source": [
    "# Data Preprocessing for Hybrid Filtering"
   ]
  },
  {
   "cell_type": "code",
   "execution_count": 1,
   "metadata": {
    "collapsed": false
   },
   "outputs": [
    {
     "name": "stdout",
     "output_type": "stream",
     "text": [
      "C:\\Users\\user\\data\n"
     ]
    }
   ],
   "source": [
    "import pandas as pd\n",
    "import numpy as np\n",
    "\n",
    "%cd ~/data"
   ]
  },
  {
   "cell_type": "code",
   "execution_count": 2,
   "metadata": {
    "collapsed": false
   },
   "outputs": [],
   "source": [
    "\"\"\"importing data of rating and genre\"\"\"\n",
    "\n",
    "rating = pd.read_csv('rating.csv')\n",
    "ani = pd.read_csv('anime.csv')"
   ]
  },
  {
   "cell_type": "code",
   "execution_count": 3,
   "metadata": {
    "collapsed": false
   },
   "outputs": [
    {
     "data": {
      "text/html": [
       "<div>\n",
       "<style>\n",
       "    .dataframe thead tr:only-child th {\n",
       "        text-align: right;\n",
       "    }\n",
       "\n",
       "    .dataframe thead th {\n",
       "        text-align: left;\n",
       "    }\n",
       "\n",
       "    .dataframe tbody tr th {\n",
       "        vertical-align: top;\n",
       "    }\n",
       "</style>\n",
       "<table border=\"1\" class=\"dataframe\">\n",
       "  <thead>\n",
       "    <tr style=\"text-align: right;\">\n",
       "      <th></th>\n",
       "      <th>user_id</th>\n",
       "      <th>anime_id</th>\n",
       "      <th>rating</th>\n",
       "    </tr>\n",
       "  </thead>\n",
       "  <tbody>\n",
       "    <tr>\n",
       "      <th>0</th>\n",
       "      <td>1</td>\n",
       "      <td>20</td>\n",
       "      <td>-1</td>\n",
       "    </tr>\n",
       "    <tr>\n",
       "      <th>1</th>\n",
       "      <td>1</td>\n",
       "      <td>24</td>\n",
       "      <td>-1</td>\n",
       "    </tr>\n",
       "    <tr>\n",
       "      <th>2</th>\n",
       "      <td>1</td>\n",
       "      <td>79</td>\n",
       "      <td>-1</td>\n",
       "    </tr>\n",
       "    <tr>\n",
       "      <th>3</th>\n",
       "      <td>1</td>\n",
       "      <td>226</td>\n",
       "      <td>-1</td>\n",
       "    </tr>\n",
       "    <tr>\n",
       "      <th>4</th>\n",
       "      <td>1</td>\n",
       "      <td>241</td>\n",
       "      <td>-1</td>\n",
       "    </tr>\n",
       "  </tbody>\n",
       "</table>\n",
       "</div>"
      ],
      "text/plain": [
       "   user_id  anime_id  rating\n",
       "0        1        20      -1\n",
       "1        1        24      -1\n",
       "2        1        79      -1\n",
       "3        1       226      -1\n",
       "4        1       241      -1"
      ]
     },
     "execution_count": 3,
     "metadata": {},
     "output_type": "execute_result"
    }
   ],
   "source": [
    "rating.head(5)"
   ]
  },
  {
   "cell_type": "code",
   "execution_count": 4,
   "metadata": {
    "collapsed": false
   },
   "outputs": [
    {
     "data": {
      "text/html": [
       "<div>\n",
       "<style>\n",
       "    .dataframe thead tr:only-child th {\n",
       "        text-align: right;\n",
       "    }\n",
       "\n",
       "    .dataframe thead th {\n",
       "        text-align: left;\n",
       "    }\n",
       "\n",
       "    .dataframe tbody tr th {\n",
       "        vertical-align: top;\n",
       "    }\n",
       "</style>\n",
       "<table border=\"1\" class=\"dataframe\">\n",
       "  <thead>\n",
       "    <tr style=\"text-align: right;\">\n",
       "      <th></th>\n",
       "      <th>anime_id</th>\n",
       "      <th>name</th>\n",
       "      <th>genre</th>\n",
       "      <th>type</th>\n",
       "      <th>episodes</th>\n",
       "      <th>rating</th>\n",
       "      <th>members</th>\n",
       "    </tr>\n",
       "  </thead>\n",
       "  <tbody>\n",
       "    <tr>\n",
       "      <th>0</th>\n",
       "      <td>32281</td>\n",
       "      <td>Kimi no Na wa.</td>\n",
       "      <td>Drama, Romance, School, Supernatural</td>\n",
       "      <td>Movie</td>\n",
       "      <td>1</td>\n",
       "      <td>9.37</td>\n",
       "      <td>200630</td>\n",
       "    </tr>\n",
       "    <tr>\n",
       "      <th>1</th>\n",
       "      <td>5114</td>\n",
       "      <td>Fullmetal Alchemist: Brotherhood</td>\n",
       "      <td>Action, Adventure, Drama, Fantasy, Magic, Mili...</td>\n",
       "      <td>TV</td>\n",
       "      <td>64</td>\n",
       "      <td>9.26</td>\n",
       "      <td>793665</td>\n",
       "    </tr>\n",
       "    <tr>\n",
       "      <th>2</th>\n",
       "      <td>28977</td>\n",
       "      <td>Gintama°</td>\n",
       "      <td>Action, Comedy, Historical, Parody, Samurai, S...</td>\n",
       "      <td>TV</td>\n",
       "      <td>51</td>\n",
       "      <td>9.25</td>\n",
       "      <td>114262</td>\n",
       "    </tr>\n",
       "    <tr>\n",
       "      <th>3</th>\n",
       "      <td>9253</td>\n",
       "      <td>Steins;Gate</td>\n",
       "      <td>Sci-Fi, Thriller</td>\n",
       "      <td>TV</td>\n",
       "      <td>24</td>\n",
       "      <td>9.17</td>\n",
       "      <td>673572</td>\n",
       "    </tr>\n",
       "    <tr>\n",
       "      <th>4</th>\n",
       "      <td>9969</td>\n",
       "      <td>Gintama&amp;#039;</td>\n",
       "      <td>Action, Comedy, Historical, Parody, Samurai, S...</td>\n",
       "      <td>TV</td>\n",
       "      <td>51</td>\n",
       "      <td>9.16</td>\n",
       "      <td>151266</td>\n",
       "    </tr>\n",
       "  </tbody>\n",
       "</table>\n",
       "</div>"
      ],
      "text/plain": [
       "   anime_id                              name  \\\n",
       "0     32281                    Kimi no Na wa.   \n",
       "1      5114  Fullmetal Alchemist: Brotherhood   \n",
       "2     28977                          Gintama°   \n",
       "3      9253                       Steins;Gate   \n",
       "4      9969                     Gintama&#039;   \n",
       "\n",
       "                                               genre   type episodes  rating  \\\n",
       "0               Drama, Romance, School, Supernatural  Movie        1    9.37   \n",
       "1  Action, Adventure, Drama, Fantasy, Magic, Mili...     TV       64    9.26   \n",
       "2  Action, Comedy, Historical, Parody, Samurai, S...     TV       51    9.25   \n",
       "3                                   Sci-Fi, Thriller     TV       24    9.17   \n",
       "4  Action, Comedy, Historical, Parody, Samurai, S...     TV       51    9.16   \n",
       "\n",
       "   members  \n",
       "0   200630  \n",
       "1   793665  \n",
       "2   114262  \n",
       "3   673572  \n",
       "4   151266  "
      ]
     },
     "execution_count": 4,
     "metadata": {},
     "output_type": "execute_result"
    }
   ],
   "source": [
    "ani.head(5)"
   ]
  },
  {
   "cell_type": "code",
   "execution_count": 5,
   "metadata": {
    "collapsed": true
   },
   "outputs": [],
   "source": [
    "\"\"\"Making rating matrix to sparse matrix by users\"\"\"\n",
    "\n",
    "def sparse_umat(rating):\n",
    "    rating = rating.pivot_table(index = ['user_id'], columns = ['anime_id'])\n",
    "    rating = rating.replace(-1,0)\n",
    "    return rating"
   ]
  },
  {
   "cell_type": "code",
   "execution_count": 6,
   "metadata": {
    "collapsed": false
   },
   "outputs": [],
   "source": [
    "\"\"\"Extracting all genre information used\"\"\"\n",
    "\n",
    "def genre_preprocessor(ani):\n",
    "    genre = ani['genre']\n",
    "    lis = []\n",
    "    for i in range(len(genre)):\n",
    "        if type(genre[i]) == str:\n",
    "            for j in range(len(genre[i].replace(' ', '').split(','))):\n",
    "                lis.append(genre[i].replace(' ', '').split(',')[j])\n",
    "        else:\n",
    "            pass\n",
    "    return np.unique(lis)"
   ]
  },
  {
   "cell_type": "code",
   "execution_count": 7,
   "metadata": {
    "collapsed": false,
    "scrolled": true
   },
   "outputs": [
    {
     "data": {
      "text/plain": [
       "array(['Action', 'Adventure', 'Cars', 'Comedy', 'Dementia', 'Demons',\n",
       "       'Drama', 'Ecchi', 'Fantasy', 'Game', 'Harem', 'Hentai',\n",
       "       'Historical', 'Horror', 'Josei', 'Kids', 'Magic', 'MartialArts',\n",
       "       'Mecha', 'Military', 'Music', 'Mystery', 'Parody', 'Police',\n",
       "       'Psychological', 'Romance', 'Samurai', 'School', 'Sci-Fi', 'Seinen',\n",
       "       'Shoujo', 'ShoujoAi', 'Shounen', 'ShounenAi', 'SliceofLife',\n",
       "       'Space', 'Sports', 'SuperPower', 'Supernatural', 'Thriller',\n",
       "       'Vampire', 'Yaoi', 'Yuri'], \n",
       "      dtype='|S13')"
      ]
     },
     "execution_count": 7,
     "metadata": {},
     "output_type": "execute_result"
    }
   ],
   "source": [
    "\"\"\"Extraced 43 genre information\"\"\"\n",
    "\n",
    "genre_type = genre_preprocessor(ani)\n",
    "genre_type"
   ]
  },
  {
   "cell_type": "code",
   "execution_count": 8,
   "metadata": {
    "collapsed": false
   },
   "outputs": [
    {
     "name": "stdout",
     "output_type": "stream",
     "text": [
      "Wall time: 8min 50s\n"
     ]
    }
   ],
   "source": [
    "%%time\n",
    "\n",
    "umatrix = sparse_umat(rating)\n",
    "umatrix"
   ]
  },
  {
   "cell_type": "code",
   "execution_count": 13,
   "metadata": {
    "collapsed": false
   },
   "outputs": [],
   "source": [
    "\"\"\"Making users genre feature array\"\"\"\n",
    "\n",
    "def sparse_featmat(umatrix, ani, genre_type):\n",
    "    u_mfeat = np.zeros((len(umatrix), len(genre_type)))\n",
    "\n",
    "    for i in range(len(umatrix.index)):\n",
    "        u_movie = umatrix['rating'].iloc[i,:][umatrix['rating'].iloc[i,:]>0].index\n",
    "        mean = umatrix['rating'].iloc[i,:][umatrix['rating'].iloc[i,:]>0].mean()\n",
    "        diff = umatrix['rating'].iloc[i,:][umatrix['rating'].iloc[i,:]>0] - mean\n",
    "        count = np.zeros(len(genre_type))\n",
    "        feat_score_scale = np.zeros(len(genre_type))\n",
    "\n",
    "        for j in u_movie:\n",
    "            if j not in ani[ani['genre'].isnull()]['anime_id'].values:\n",
    "                u_feat = np.zeros(len(genre_type))\n",
    "                u_genre = ani[ani['anime_id']==j]['genre']\n",
    "                try:\n",
    "                    u_feat_for_onetime = pd.Series(genre_type).isin(u_genre.values[0].replace(' ', '').split(',')).values\n",
    "                    count[u_feat_for_onetime] += 1.0\n",
    "                    u_feat[u_feat_for_onetime] = 1.0\n",
    "                    feat_score = (diff[j] * u_feat)\n",
    "                    feat_score_scale += feat_score\n",
    "                except:\n",
    "                    feat_score_scale += np.zeros(len(genre_type))\n",
    "            else:\n",
    "                pass\n",
    "        u_mfeat[i,:] = feat_score_scale / count\n",
    "\n",
    "\n",
    "    return u_mfeat"
   ]
  },
  {
   "cell_type": "code",
   "execution_count": 12,
   "metadata": {
    "collapsed": false
   },
   "outputs": [
    {
     "data": {
      "text/html": [
       "<div>\n",
       "<style>\n",
       "    .dataframe thead tr:only-child th {\n",
       "        text-align: right;\n",
       "    }\n",
       "\n",
       "    .dataframe thead th {\n",
       "        text-align: left;\n",
       "    }\n",
       "\n",
       "    .dataframe tbody tr th {\n",
       "        vertical-align: top;\n",
       "    }\n",
       "</style>\n",
       "<table border=\"1\" class=\"dataframe\">\n",
       "  <thead>\n",
       "    <tr style=\"text-align: right;\">\n",
       "      <th></th>\n",
       "      <th>Action</th>\n",
       "      <th>Adventure</th>\n",
       "      <th>Cars</th>\n",
       "      <th>Comedy</th>\n",
       "      <th>Dementia</th>\n",
       "      <th>Demons</th>\n",
       "      <th>Drama</th>\n",
       "      <th>Ecchi</th>\n",
       "      <th>Fantasy</th>\n",
       "      <th>Game</th>\n",
       "      <th>...</th>\n",
       "      <th>ShounenAi</th>\n",
       "      <th>SliceofLife</th>\n",
       "      <th>Space</th>\n",
       "      <th>Sports</th>\n",
       "      <th>SuperPower</th>\n",
       "      <th>Supernatural</th>\n",
       "      <th>Thriller</th>\n",
       "      <th>Vampire</th>\n",
       "      <th>Yaoi</th>\n",
       "      <th>Yuri</th>\n",
       "    </tr>\n",
       "  </thead>\n",
       "  <tbody>\n",
       "    <tr>\n",
       "      <th>0</th>\n",
       "      <td>0.000000</td>\n",
       "      <td>0.000000</td>\n",
       "      <td>NaN</td>\n",
       "      <td>0.000000</td>\n",
       "      <td>NaN</td>\n",
       "      <td>0.000000</td>\n",
       "      <td>NaN</td>\n",
       "      <td>0.000000</td>\n",
       "      <td>0.000000</td>\n",
       "      <td>0.000000</td>\n",
       "      <td>...</td>\n",
       "      <td>NaN</td>\n",
       "      <td>NaN</td>\n",
       "      <td>NaN</td>\n",
       "      <td>NaN</td>\n",
       "      <td>NaN</td>\n",
       "      <td>0.000000</td>\n",
       "      <td>NaN</td>\n",
       "      <td>NaN</td>\n",
       "      <td>NaN</td>\n",
       "      <td>NaN</td>\n",
       "    </tr>\n",
       "    <tr>\n",
       "      <th>1</th>\n",
       "      <td>NaN</td>\n",
       "      <td>NaN</td>\n",
       "      <td>NaN</td>\n",
       "      <td>0.000000</td>\n",
       "      <td>NaN</td>\n",
       "      <td>NaN</td>\n",
       "      <td>NaN</td>\n",
       "      <td>NaN</td>\n",
       "      <td>NaN</td>\n",
       "      <td>NaN</td>\n",
       "      <td>...</td>\n",
       "      <td>NaN</td>\n",
       "      <td>NaN</td>\n",
       "      <td>NaN</td>\n",
       "      <td>0.000000</td>\n",
       "      <td>NaN</td>\n",
       "      <td>NaN</td>\n",
       "      <td>NaN</td>\n",
       "      <td>NaN</td>\n",
       "      <td>NaN</td>\n",
       "      <td>NaN</td>\n",
       "    </tr>\n",
       "    <tr>\n",
       "      <th>2</th>\n",
       "      <td>-0.274895</td>\n",
       "      <td>-0.033302</td>\n",
       "      <td>NaN</td>\n",
       "      <td>0.092677</td>\n",
       "      <td>NaN</td>\n",
       "      <td>-1.065217</td>\n",
       "      <td>-0.113604</td>\n",
       "      <td>0.234783</td>\n",
       "      <td>0.011706</td>\n",
       "      <td>-0.565217</td>\n",
       "      <td>...</td>\n",
       "      <td>NaN</td>\n",
       "      <td>0.234783</td>\n",
       "      <td>NaN</td>\n",
       "      <td>1.034783</td>\n",
       "      <td>0.212560</td>\n",
       "      <td>0.018116</td>\n",
       "      <td>0.434783</td>\n",
       "      <td>-1.565217</td>\n",
       "      <td>NaN</td>\n",
       "      <td>NaN</td>\n",
       "    </tr>\n",
       "    <tr>\n",
       "      <th>3</th>\n",
       "      <td>NaN</td>\n",
       "      <td>NaN</td>\n",
       "      <td>NaN</td>\n",
       "      <td>NaN</td>\n",
       "      <td>NaN</td>\n",
       "      <td>NaN</td>\n",
       "      <td>NaN</td>\n",
       "      <td>NaN</td>\n",
       "      <td>NaN</td>\n",
       "      <td>NaN</td>\n",
       "      <td>...</td>\n",
       "      <td>NaN</td>\n",
       "      <td>NaN</td>\n",
       "      <td>NaN</td>\n",
       "      <td>NaN</td>\n",
       "      <td>NaN</td>\n",
       "      <td>NaN</td>\n",
       "      <td>NaN</td>\n",
       "      <td>NaN</td>\n",
       "      <td>NaN</td>\n",
       "      <td>NaN</td>\n",
       "    </tr>\n",
       "    <tr>\n",
       "      <th>4</th>\n",
       "      <td>0.346179</td>\n",
       "      <td>0.831693</td>\n",
       "      <td>1.64488</td>\n",
       "      <td>-0.199357</td>\n",
       "      <td>-3.35512</td>\n",
       "      <td>-0.197225</td>\n",
       "      <td>0.862829</td>\n",
       "      <td>-1.845120</td>\n",
       "      <td>0.055406</td>\n",
       "      <td>-0.255120</td>\n",
       "      <td>...</td>\n",
       "      <td>NaN</td>\n",
       "      <td>0.151729</td>\n",
       "      <td>2.89488</td>\n",
       "      <td>1.644880</td>\n",
       "      <td>-0.184388</td>\n",
       "      <td>-0.008181</td>\n",
       "      <td>2.930594</td>\n",
       "      <td>0.073452</td>\n",
       "      <td>NaN</td>\n",
       "      <td>NaN</td>\n",
       "    </tr>\n",
       "  </tbody>\n",
       "</table>\n",
       "<p>5 rows × 43 columns</p>\n",
       "</div>"
      ],
      "text/plain": [
       "     Action  Adventure     Cars    Comedy  Dementia    Demons     Drama  \\\n",
       "0  0.000000   0.000000      NaN  0.000000       NaN  0.000000       NaN   \n",
       "1       NaN        NaN      NaN  0.000000       NaN       NaN       NaN   \n",
       "2 -0.274895  -0.033302      NaN  0.092677       NaN -1.065217 -0.113604   \n",
       "3       NaN        NaN      NaN       NaN       NaN       NaN       NaN   \n",
       "4  0.346179   0.831693  1.64488 -0.199357  -3.35512 -0.197225  0.862829   \n",
       "\n",
       "      Ecchi   Fantasy      Game  ...   ShounenAi  SliceofLife    Space  \\\n",
       "0  0.000000  0.000000  0.000000  ...         NaN          NaN      NaN   \n",
       "1       NaN       NaN       NaN  ...         NaN          NaN      NaN   \n",
       "2  0.234783  0.011706 -0.565217  ...         NaN     0.234783      NaN   \n",
       "3       NaN       NaN       NaN  ...         NaN          NaN      NaN   \n",
       "4 -1.845120  0.055406 -0.255120  ...         NaN     0.151729  2.89488   \n",
       "\n",
       "     Sports  SuperPower  Supernatural  Thriller   Vampire  Yaoi  Yuri  \n",
       "0       NaN         NaN      0.000000       NaN       NaN   NaN   NaN  \n",
       "1  0.000000         NaN           NaN       NaN       NaN   NaN   NaN  \n",
       "2  1.034783    0.212560      0.018116  0.434783 -1.565217   NaN   NaN  \n",
       "3       NaN         NaN           NaN       NaN       NaN   NaN   NaN  \n",
       "4  1.644880   -0.184388     -0.008181  2.930594  0.073452   NaN   NaN  \n",
       "\n",
       "[5 rows x 43 columns]"
      ]
     },
     "execution_count": 12,
     "metadata": {},
     "output_type": "execute_result"
    }
   ],
   "source": [
    "gen_sparse.head(5)"
   ]
  },
  {
   "cell_type": "code",
   "execution_count": 16,
   "metadata": {
    "collapsed": false
   },
   "outputs": [
    {
     "data": {
      "text/plain": [
       "array([[         nan,          nan,          nan, ...,          nan,\n",
       "                 nan,          nan],\n",
       "       [         nan,          nan,          nan, ...,          nan,\n",
       "                 nan,          nan],\n",
       "       [         nan,          nan,          nan, ...,  -1.56521739,\n",
       "                 nan,          nan],\n",
       "       ..., \n",
       "       [         nan,          nan,          nan, ...,          nan,\n",
       "                 nan,          nan],\n",
       "       [ 10.        ,  10.        ,  10.        , ...,  -0.45657694,\n",
       "                 nan,  -1.54748603],\n",
       "       [         nan,          nan,          nan, ...,          nan,\n",
       "                 nan,          nan]])"
      ]
     },
     "execution_count": 16,
     "metadata": {},
     "output_type": "execute_result"
    }
   ],
   "source": [
    "\"\"\"Merging rating matrix with feature matrix and transform it to array\"\"\"\n",
    "\n",
    "ufeat_matrix = np.hstack([umatrix['rating'].values, gen_sparse])\n",
    "ufeat_matrix"
   ]
  },
  {
   "cell_type": "code",
   "execution_count": 25,
   "metadata": {
    "collapsed": false
   },
   "outputs": [
    {
     "data": {
      "text/plain": [
       "array([[  0.        ,   0.        ,   0.        , ...,   0.        ,\n",
       "          0.        ,   0.        ],\n",
       "       [  0.        ,   0.        ,   0.        , ...,   0.        ,\n",
       "          0.        ,   0.        ],\n",
       "       [  0.        ,   0.        ,   0.        , ...,  -1.56521739,\n",
       "          0.        ,   0.        ],\n",
       "       ..., \n",
       "       [  0.        ,   0.        ,   0.        , ...,   0.        ,\n",
       "          0.        ,   0.        ],\n",
       "       [ 10.        ,  10.        ,  10.        , ...,  -0.45657694,\n",
       "          0.        ,  -1.54748603],\n",
       "       [  0.        ,   0.        ,   0.        , ...,   0.        ,\n",
       "          0.        ,   0.        ]])"
      ]
     },
     "execution_count": 25,
     "metadata": {},
     "output_type": "execute_result"
    }
   ],
   "source": [
    "ufeat_matrix = np.nan_to_num(ufeat_matrix)\n",
    "ufeat_matrix"
   ]
  },
  {
   "cell_type": "code",
   "execution_count": 18,
   "metadata": {
    "collapsed": false
   },
   "outputs": [],
   "source": [
    "pd.DataFrame(ufeat_matrix).to_csv('added_sparse_matrix.csv', encoding = 'utf-8')"
   ]
  }
 ],
 "metadata": {
  "kernelspec": {
   "display_name": "Python 2",
   "language": "python",
   "name": "python2"
  },
  "language_info": {
   "codemirror_mode": {
    "name": "ipython",
    "version": 2
   },
   "file_extension": ".py",
   "mimetype": "text/x-python",
   "name": "python",
   "nbconvert_exporter": "python",
   "pygments_lexer": "ipython2",
   "version": "2.7.13"
  }
 },
 "nbformat": 4,
 "nbformat_minor": 2
}
